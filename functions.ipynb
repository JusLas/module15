{
 "cells": [
  {
   "cell_type": "markdown",
   "id": "6925259e-8159-4509-a6a5-d8aa0f504c6c",
   "metadata": {},
   "source": [
    "# Funkcje\n",
    "W jezyku Python definiujemy funcje używając słowa kluczowego `def`."
   ]
  },
  {
   "cell_type": "code",
   "execution_count": 1,
   "id": "c6b16f4a-5aba-407e-87a8-4cfbf198531d",
   "metadata": {},
   "outputs": [],
   "source": [
    "def add(x, y):\n",
    "    return x + y"
   ]
  },
  {
   "cell_type": "markdown",
   "id": "d351984e-1124-49fc-98ff-b2f3b0c15041",
   "metadata": {},
   "source": [
    "## Przykład użycia funkcji\n",
    "\n",
    "`add(1, 1)`"
   ]
  },
  {
   "cell_type": "code",
   "execution_count": 2,
   "id": "5ad6c0ba-b131-4067-a1b9-58d655e73dfa",
   "metadata": {},
   "outputs": [
    {
     "data": {
      "text/plain": [
       "2"
      ]
     },
     "execution_count": 2,
     "metadata": {},
     "output_type": "execute_result"
    }
   ],
   "source": [
    "add(1, 1)"
   ]
  },
  {
   "cell_type": "code",
   "execution_count": null,
   "id": "616c54ae-9fda-42a6-8a78-8fe518fe2059",
   "metadata": {},
   "outputs": [],
   "source": []
  }
 ],
 "metadata": {
  "kernelspec": {
   "display_name": "Python 3 (ipykernel)",
   "language": "python",
   "name": "python3"
  },
  "language_info": {
   "codemirror_mode": {
    "name": "ipython",
    "version": 3
   },
   "file_extension": ".py",
   "mimetype": "text/x-python",
   "name": "python",
   "nbconvert_exporter": "python",
   "pygments_lexer": "ipython3",
   "version": "3.9.7"
  }
 },
 "nbformat": 4,
 "nbformat_minor": 5
}
